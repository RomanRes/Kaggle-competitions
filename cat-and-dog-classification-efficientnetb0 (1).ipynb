{
 "cells": [
  {
   "cell_type": "code",
   "execution_count": 1,
   "id": "3733e5db",
   "metadata": {
    "_cell_guid": "b1076dfc-b9ad-4769-8c92-a6c4dae69d19",
    "_uuid": "8f2839f25d086af736a60e9eeb907d3b93b6e0e5",
    "execution": {
     "iopub.execute_input": "2023-02-15T21:09:39.618061Z",
     "iopub.status.busy": "2023-02-15T21:09:39.617229Z",
     "iopub.status.idle": "2023-02-15T21:09:46.049221Z",
     "shell.execute_reply": "2023-02-15T21:09:46.048540Z",
     "shell.execute_reply.started": "2023-02-15T21:04:48.423661Z"
    },
    "papermill": {
     "duration": 6.468732,
     "end_time": "2023-02-15T21:09:46.049395",
     "exception": false,
     "start_time": "2023-02-15T21:09:39.580663",
     "status": "completed"
    },
    "tags": []
   },
   "outputs": [],
   "source": [
    "\n",
    "import os\n",
    "import zipfile\n",
    "\n",
    "import numpy as np \n",
    "import pandas as pd \n",
    "\n",
    "import tensorflow as tf\n",
    "from tensorflow.keras.applications import EfficientNetB0\n",
    "from tensorflow.keras.applications.efficientnet import preprocess_input\n",
    "from tensorflow.keras.preprocessing.image import ImageDataGenerator\n",
    "\n",
    "from tensorflow import keras\n",
    "from tensorflow.keras import Model\n",
    "from tensorflow.keras.optimizers import RMSprop\n",
    "from tensorflow.keras.models import load_model\n",
    "\n",
    "\n",
    "from sklearn.model_selection import train_test_split\n",
    "\n",
    "import matplotlib.pyplot as plt\n"
   ]
  },
  {
   "cell_type": "code",
   "execution_count": 2,
   "id": "04b54178",
   "metadata": {
    "execution": {
     "iopub.execute_input": "2023-02-15T21:09:46.083391Z",
     "iopub.status.busy": "2023-02-15T21:09:46.080709Z",
     "iopub.status.idle": "2023-02-15T21:09:46.085581Z",
     "shell.execute_reply": "2023-02-15T21:09:46.086054Z",
     "shell.execute_reply.started": "2023-02-15T17:31:38.924771Z"
    },
    "papermill": {
     "duration": 0.021391,
     "end_time": "2023-02-15T21:09:46.086251",
     "exception": false,
     "start_time": "2023-02-15T21:09:46.064860",
     "status": "completed"
    },
    "tags": []
   },
   "outputs": [],
   "source": [
    "\n",
    "TRAIN_PATH = \"../input/dogs-vs-cats-redux-kernels-edition/train.zip\"\n",
    "TEST_PATH = \"../input/dogs-vs-cats-redux-kernels-edition/test.zip\"\n",
    "\n",
    "UNZIP_DATA = \"../kaggle/files/unzipped/\"\n",
    "UNZIP_TRAIN = \"../kaggle/files/unzipped/train\"\n",
    "UNZIP_TEST = \"../kaggle/files/unzipped/test\"\n",
    "\n",
    "BATCH_SIZE = 32\n",
    "\n",
    "SEED = 88888\n",
    "IMG_SIZE = 224\n",
    "EPOCHS = 100\n",
    "\n",
    "\n"
   ]
  },
  {
   "cell_type": "code",
   "execution_count": 3,
   "id": "9645c5c0",
   "metadata": {
    "execution": {
     "iopub.execute_input": "2023-02-15T21:09:46.119365Z",
     "iopub.status.busy": "2023-02-15T21:09:46.118714Z",
     "iopub.status.idle": "2023-02-15T21:10:08.094952Z",
     "shell.execute_reply": "2023-02-15T21:10:08.095485Z",
     "shell.execute_reply.started": "2023-02-15T17:31:38.935279Z"
    },
    "papermill": {
     "duration": 21.995706,
     "end_time": "2023-02-15T21:10:08.095671",
     "exception": false,
     "start_time": "2023-02-15T21:09:46.099965",
     "status": "completed"
    },
    "tags": []
   },
   "outputs": [
    {
     "name": "stdout",
     "output_type": "stream",
     "text": [
      "Done!\n",
      "Done!\n"
     ]
    }
   ],
   "source": [
    "\n",
    "with zipfile.ZipFile(TRAIN_PATH, 'r') as zipp:\n",
    "    zipp.extractall(UNZIP_DATA)\n",
    "    print('Done!')\n",
    "    \n",
    "with zipfile.ZipFile(TEST_PATH, 'r') as zipp:\n",
    "    zipp.extractall(UNZIP_DATA)\n",
    "    print('Done!')"
   ]
  },
  {
   "cell_type": "code",
   "execution_count": 4,
   "id": "c4aa7d64",
   "metadata": {
    "execution": {
     "iopub.execute_input": "2023-02-15T21:10:08.130016Z",
     "iopub.status.busy": "2023-02-15T21:10:08.128961Z",
     "iopub.status.idle": "2023-02-15T21:10:08.152004Z",
     "shell.execute_reply": "2023-02-15T21:10:08.151506Z",
     "shell.execute_reply.started": "2023-02-15T17:31:57.452248Z"
    },
    "papermill": {
     "duration": 0.041856,
     "end_time": "2023-02-15T21:10:08.152214",
     "exception": false,
     "start_time": "2023-02-15T21:10:08.110358",
     "status": "completed"
    },
    "tags": []
   },
   "outputs": [],
   "source": [
    "training_images_files = os.listdir(\"../kaggle/files/unzipped/train\")\n",
    "test_image_files =os.listdir(\"../kaggle/files/unzipped/test\")\n"
   ]
  },
  {
   "cell_type": "code",
   "execution_count": 5,
   "id": "a14cd2b2",
   "metadata": {
    "execution": {
     "iopub.execute_input": "2023-02-15T21:10:08.224162Z",
     "iopub.status.busy": "2023-02-15T21:10:08.214008Z",
     "iopub.status.idle": "2023-02-15T21:10:08.286773Z",
     "shell.execute_reply": "2023-02-15T21:10:08.287310Z",
     "shell.execute_reply.started": "2023-02-15T17:31:57.482018Z"
    },
    "papermill": {
     "duration": 0.120558,
     "end_time": "2023-02-15T21:10:08.287512",
     "exception": false,
     "start_time": "2023-02-15T21:10:08.166954",
     "status": "completed"
    },
    "tags": []
   },
   "outputs": [
    {
     "data": {
      "text/html": [
       "<div>\n",
       "<style scoped>\n",
       "    .dataframe tbody tr th:only-of-type {\n",
       "        vertical-align: middle;\n",
       "    }\n",
       "\n",
       "    .dataframe tbody tr th {\n",
       "        vertical-align: top;\n",
       "    }\n",
       "\n",
       "    .dataframe thead th {\n",
       "        text-align: right;\n",
       "    }\n",
       "</style>\n",
       "<table border=\"1\" class=\"dataframe\">\n",
       "  <thead>\n",
       "    <tr style=\"text-align: right;\">\n",
       "      <th></th>\n",
       "      <th>filename</th>\n",
       "      <th>class</th>\n",
       "      <th>Path</th>\n",
       "    </tr>\n",
       "  </thead>\n",
       "  <tbody>\n",
       "    <tr>\n",
       "      <th>0</th>\n",
       "      <td>dog.890.jpg</td>\n",
       "      <td>dog</td>\n",
       "      <td>../kaggle/files/unzipped/test/dog.890.jpg</td>\n",
       "    </tr>\n",
       "    <tr>\n",
       "      <th>1</th>\n",
       "      <td>dog.1178.jpg</td>\n",
       "      <td>dog</td>\n",
       "      <td>../kaggle/files/unzipped/test/dog.1178.jpg</td>\n",
       "    </tr>\n",
       "    <tr>\n",
       "      <th>2</th>\n",
       "      <td>dog.7845.jpg</td>\n",
       "      <td>dog</td>\n",
       "      <td>../kaggle/files/unzipped/test/dog.7845.jpg</td>\n",
       "    </tr>\n",
       "    <tr>\n",
       "      <th>3</th>\n",
       "      <td>dog.4632.jpg</td>\n",
       "      <td>dog</td>\n",
       "      <td>../kaggle/files/unzipped/test/dog.4632.jpg</td>\n",
       "    </tr>\n",
       "    <tr>\n",
       "      <th>4</th>\n",
       "      <td>cat.3660.jpg</td>\n",
       "      <td>cat</td>\n",
       "      <td>../kaggle/files/unzipped/test/cat.3660.jpg</td>\n",
       "    </tr>\n",
       "  </tbody>\n",
       "</table>\n",
       "</div>"
      ],
      "text/plain": [
       "       filename class                                        Path\n",
       "0   dog.890.jpg   dog   ../kaggle/files/unzipped/test/dog.890.jpg\n",
       "1  dog.1178.jpg   dog  ../kaggle/files/unzipped/test/dog.1178.jpg\n",
       "2  dog.7845.jpg   dog  ../kaggle/files/unzipped/test/dog.7845.jpg\n",
       "3  dog.4632.jpg   dog  ../kaggle/files/unzipped/test/dog.4632.jpg\n",
       "4  cat.3660.jpg   cat  ../kaggle/files/unzipped/test/cat.3660.jpg"
      ]
     },
     "metadata": {},
     "output_type": "display_data"
    },
    {
     "data": {
      "text/html": [
       "<div>\n",
       "<style scoped>\n",
       "    .dataframe tbody tr th:only-of-type {\n",
       "        vertical-align: middle;\n",
       "    }\n",
       "\n",
       "    .dataframe tbody tr th {\n",
       "        vertical-align: top;\n",
       "    }\n",
       "\n",
       "    .dataframe thead th {\n",
       "        text-align: right;\n",
       "    }\n",
       "</style>\n",
       "<table border=\"1\" class=\"dataframe\">\n",
       "  <thead>\n",
       "    <tr style=\"text-align: right;\">\n",
       "      <th></th>\n",
       "      <th>filename</th>\n",
       "      <th>id</th>\n",
       "    </tr>\n",
       "  </thead>\n",
       "  <tbody>\n",
       "    <tr>\n",
       "      <th>0</th>\n",
       "      <td>1.jpg</td>\n",
       "      <td>1</td>\n",
       "    </tr>\n",
       "    <tr>\n",
       "      <th>1</th>\n",
       "      <td>2.jpg</td>\n",
       "      <td>2</td>\n",
       "    </tr>\n",
       "    <tr>\n",
       "      <th>2</th>\n",
       "      <td>3.jpg</td>\n",
       "      <td>3</td>\n",
       "    </tr>\n",
       "    <tr>\n",
       "      <th>3</th>\n",
       "      <td>4.jpg</td>\n",
       "      <td>4</td>\n",
       "    </tr>\n",
       "    <tr>\n",
       "      <th>4</th>\n",
       "      <td>5.jpg</td>\n",
       "      <td>5</td>\n",
       "    </tr>\n",
       "  </tbody>\n",
       "</table>\n",
       "</div>"
      ],
      "text/plain": [
       "  filename  id\n",
       "0    1.jpg   1\n",
       "1    2.jpg   2\n",
       "2    3.jpg   3\n",
       "3    4.jpg   4\n",
       "4    5.jpg   5"
      ]
     },
     "execution_count": 5,
     "metadata": {},
     "output_type": "execute_result"
    }
   ],
   "source": [
    "#Creating DataFrame with file names, class names and paths  for training samples\n",
    "classes = [name.split('.')[0] for name in training_images_files]\n",
    "\n",
    "train = pd.DataFrame({\n",
    "    'filename': training_images_files,\n",
    "    'class': classes,\n",
    "})\n",
    "\n",
    "train['Path'] = train['filename'].apply(\n",
    "    lambda filename: os.path.join('../kaggle/files/unzipped/test', filename))\n",
    "\n",
    "display(train.head())\n",
    "\n",
    "\n",
    "#Creating DataFrame with file names and  IDs  for test samples\n",
    "test = pd.DataFrame(data = test_image_files, columns = ['filename'])\n",
    "test['id'] = test['filename'].apply(lambda f: int(f.split('.')[0]))\n",
    "test.sort_values(by = 'id', inplace = True, ignore_index = True)\n",
    "test.head()\n",
    "\n"
   ]
  },
  {
   "cell_type": "code",
   "execution_count": 6,
   "id": "2bfde2c4",
   "metadata": {
    "execution": {
     "iopub.execute_input": "2023-02-15T21:10:08.323895Z",
     "iopub.status.busy": "2023-02-15T21:10:08.321423Z",
     "iopub.status.idle": "2023-02-15T21:10:08.331140Z",
     "shell.execute_reply": "2023-02-15T21:10:08.330590Z",
     "shell.execute_reply.started": "2023-02-15T17:31:57.572939Z"
    },
    "papermill": {
     "duration": 0.028812,
     "end_time": "2023-02-15T21:10:08.331302",
     "exception": false,
     "start_time": "2023-02-15T21:10:08.302490",
     "status": "completed"
    },
    "tags": []
   },
   "outputs": [],
   "source": [
    "#split train data tu train and validation sets\n",
    "train_df, valid_df = train_test_split(train, \n",
    "                                      test_size = .10, \n",
    "                                      shuffle=True ,\n",
    "                                      random_state=SEED)\n"
   ]
  },
  {
   "cell_type": "code",
   "execution_count": 7,
   "id": "d7870756",
   "metadata": {
    "execution": {
     "iopub.execute_input": "2023-02-15T21:10:08.370303Z",
     "iopub.status.busy": "2023-02-15T21:10:08.369331Z",
     "iopub.status.idle": "2023-02-15T21:10:08.658967Z",
     "shell.execute_reply": "2023-02-15T21:10:08.659575Z",
     "shell.execute_reply.started": "2023-02-15T17:31:57.586957Z"
    },
    "papermill": {
     "duration": 0.313396,
     "end_time": "2023-02-15T21:10:08.659753",
     "exception": false,
     "start_time": "2023-02-15T21:10:08.346357",
     "status": "completed"
    },
    "tags": []
   },
   "outputs": [
    {
     "name": "stdout",
     "output_type": "stream",
     "text": [
      "Found 22500 validated image filenames belonging to 2 classes.\n",
      "Found 2500 validated image filenames belonging to 2 classes.\n"
     ]
    }
   ],
   "source": [
    "# \n",
    "train_generator = ImageDataGenerator(preprocessing_function=preprocess_input,\n",
    "                                    rotation_range=65,\n",
    "                                    shear_range=0.1,\n",
    "                                    zoom_range=0.2,\n",
    "                                    horizontal_flip=False,\n",
    "                                    vertical_flip=True,\n",
    "                                    width_shift_range=0.2,\n",
    "                                    height_shift_range=0.2\n",
    "                                    )\n",
    "\n",
    "    \n",
    "\n",
    "train_generator = train_generator.flow_from_dataframe(\n",
    "            train_df,\n",
    "            UNZIP_TRAIN,\n",
    "            x_col='filename',\n",
    "            y_col='class',\n",
    "            target_size=(IMG_SIZE,IMG_SIZE),\n",
    "            batch_size=32,\n",
    "            class_mode='binary')\n",
    "\n",
    "\n",
    "validation_generator = ImageDataGenerator(preprocessing_function=preprocess_input)\n",
    "\n",
    "\n",
    "validation_generator = validation_generator.flow_from_dataframe(\n",
    "            valid_df,\n",
    "            UNZIP_TRAIN,\n",
    "            x_col = 'filename',\n",
    "            y_col = 'class',\n",
    "            target_size = (IMG_SIZE,IMG_SIZE),\n",
    "            batch_size=32,\n",
    "            class_mode='binary'\n",
    "\n",
    ")\n"
   ]
  },
  {
   "cell_type": "code",
   "execution_count": 8,
   "id": "9d7e11bc",
   "metadata": {
    "execution": {
     "iopub.execute_input": "2023-02-15T21:10:08.700416Z",
     "iopub.status.busy": "2023-02-15T21:10:08.699593Z",
     "iopub.status.idle": "2023-02-15T21:10:14.745616Z",
     "shell.execute_reply": "2023-02-15T21:10:14.744624Z",
     "shell.execute_reply.started": "2023-02-15T17:31:57.879545Z"
    },
    "papermill": {
     "duration": 6.068683,
     "end_time": "2023-02-15T21:10:14.745780",
     "exception": false,
     "start_time": "2023-02-15T21:10:08.677097",
     "status": "completed"
    },
    "tags": []
   },
   "outputs": [
    {
     "name": "stderr",
     "output_type": "stream",
     "text": [
      "2023-02-15 21:10:08.816954: I tensorflow/stream_executor/cuda/cuda_gpu_executor.cc:937] successful NUMA node read from SysFS had negative value (-1), but there must be at least one NUMA node, so returning NUMA node zero\n",
      "2023-02-15 21:10:08.940901: I tensorflow/stream_executor/cuda/cuda_gpu_executor.cc:937] successful NUMA node read from SysFS had negative value (-1), but there must be at least one NUMA node, so returning NUMA node zero\n",
      "2023-02-15 21:10:08.941908: I tensorflow/stream_executor/cuda/cuda_gpu_executor.cc:937] successful NUMA node read from SysFS had negative value (-1), but there must be at least one NUMA node, so returning NUMA node zero\n",
      "2023-02-15 21:10:08.943907: I tensorflow/core/platform/cpu_feature_guard.cc:142] This TensorFlow binary is optimized with oneAPI Deep Neural Network Library (oneDNN) to use the following CPU instructions in performance-critical operations:  AVX2 AVX512F FMA\n",
      "To enable them in other operations, rebuild TensorFlow with the appropriate compiler flags.\n",
      "2023-02-15 21:10:08.945518: I tensorflow/stream_executor/cuda/cuda_gpu_executor.cc:937] successful NUMA node read from SysFS had negative value (-1), but there must be at least one NUMA node, so returning NUMA node zero\n",
      "2023-02-15 21:10:08.947159: I tensorflow/stream_executor/cuda/cuda_gpu_executor.cc:937] successful NUMA node read from SysFS had negative value (-1), but there must be at least one NUMA node, so returning NUMA node zero\n",
      "2023-02-15 21:10:08.948617: I tensorflow/stream_executor/cuda/cuda_gpu_executor.cc:937] successful NUMA node read from SysFS had negative value (-1), but there must be at least one NUMA node, so returning NUMA node zero\n",
      "2023-02-15 21:10:11.913695: I tensorflow/stream_executor/cuda/cuda_gpu_executor.cc:937] successful NUMA node read from SysFS had negative value (-1), but there must be at least one NUMA node, so returning NUMA node zero\n",
      "2023-02-15 21:10:11.914750: I tensorflow/stream_executor/cuda/cuda_gpu_executor.cc:937] successful NUMA node read from SysFS had negative value (-1), but there must be at least one NUMA node, so returning NUMA node zero\n",
      "2023-02-15 21:10:11.915781: I tensorflow/stream_executor/cuda/cuda_gpu_executor.cc:937] successful NUMA node read from SysFS had negative value (-1), but there must be at least one NUMA node, so returning NUMA node zero\n",
      "2023-02-15 21:10:11.916855: I tensorflow/core/common_runtime/gpu/gpu_device.cc:1510] Created device /job:localhost/replica:0/task:0/device:GPU:0 with 15403 MB memory:  -> device: 0, name: Tesla P100-PCIE-16GB, pci bus id: 0000:00:04.0, compute capability: 6.0\n"
     ]
    },
    {
     "name": "stdout",
     "output_type": "stream",
     "text": [
      "Downloading data from https://storage.googleapis.com/keras-applications/efficientnetb0_notop.h5\n",
      "16711680/16705208 [==============================] - 0s 0us/step\n",
      "16719872/16705208 [==============================] - 0s 0us/step\n"
     ]
    }
   ],
   "source": [
    "pre_trained_model = EfficientNetB0(input_shape = (IMG_SIZE, IMG_SIZE, 3),\n",
    "                                include_top = False,\n",
    "                                weights = 'imagenet')\n",
    "\n",
    "for layer in pre_trained_model.layers:\n",
    "    layer.trainable = False\n"
   ]
  },
  {
   "cell_type": "code",
   "execution_count": 9,
   "id": "cbe63905",
   "metadata": {
    "execution": {
     "iopub.execute_input": "2023-02-15T21:10:14.804609Z",
     "iopub.status.busy": "2023-02-15T21:10:14.803638Z",
     "iopub.status.idle": "2023-02-15T21:10:14.860348Z",
     "shell.execute_reply": "2023-02-15T21:10:14.859787Z",
     "shell.execute_reply.started": "2023-02-15T17:32:04.454639Z"
    },
    "papermill": {
     "duration": 0.084952,
     "end_time": "2023-02-15T21:10:14.860501",
     "exception": false,
     "start_time": "2023-02-15T21:10:14.775549",
     "status": "completed"
    },
    "tags": []
   },
   "outputs": [],
   "source": [
    "last_layer = pre_trained_model.get_layer('top_activation')\n",
    "\n",
    "last_output=last_layer.output\n",
    "\n",
    "def create_model(last_output):\n",
    "    \n",
    "    x=keras.layers.GlobalAveragePooling2D()(last_output)\n",
    "    x=keras.layers.BatchNormalization()(x)\n",
    "    x=keras.layers.Dense(1, activation='sigmoid')(x)\n",
    "\n",
    "    model = Model(pre_trained_model.input, x)\n",
    "\n",
    "    model.compile(optimizer = RMSprop(learning_rate=0.001),\n",
    "                  loss = 'binary_crossentropy',\n",
    "                  metrics = ['acc'])\n",
    "    return model\n",
    "\n",
    "model=create_model(last_output)\n",
    "#model.summary()"
   ]
  },
  {
   "cell_type": "code",
   "execution_count": 10,
   "id": "07b622f7",
   "metadata": {
    "execution": {
     "iopub.execute_input": "2023-02-15T21:10:14.911728Z",
     "iopub.status.busy": "2023-02-15T21:10:14.910293Z",
     "iopub.status.idle": "2023-02-15T21:10:14.915698Z",
     "shell.execute_reply": "2023-02-15T21:10:14.915005Z",
     "shell.execute_reply.started": "2023-02-15T17:32:04.544277Z"
    },
    "papermill": {
     "duration": 0.037487,
     "end_time": "2023-02-15T21:10:14.915856",
     "exception": false,
     "start_time": "2023-02-15T21:10:14.878369",
     "status": "completed"
    },
    "tags": []
   },
   "outputs": [],
   "source": [
    "from tensorflow.keras.callbacks import ReduceLROnPlateau, EarlyStopping, ModelCheckpoint\n",
    "\n",
    "learning_rate_reduction = ReduceLROnPlateau(monitor='val_loss',\n",
    "                                            patience=5,\n",
    "                                            verbose=1,\n",
    "                                            factor=0.5,\n",
    "                                            min_delt=0.001,\n",
    "                                            min_lr=0.00001)\n",
    "\n",
    "early_stopping = EarlyStopping(monitor = \"val_loss\",\n",
    "                               patience = 20,\n",
    "                               verbose = 1,\n",
    "                               mode = \"min\"\n",
    "                              )\n",
    "\n",
    "model_save = ModelCheckpoint(filepath=\"/kaggle/working/\", \n",
    "                             monitor = \"val_loss\",\n",
    "                             verbose=1, \n",
    "                             save_best_only=True,\n",
    "                             mode=\"min\")\n"
   ]
  },
  {
   "cell_type": "code",
   "execution_count": 11,
   "id": "07a07271",
   "metadata": {
    "execution": {
     "iopub.execute_input": "2023-02-15T21:10:14.956622Z",
     "iopub.status.busy": "2023-02-15T21:10:14.955934Z",
     "iopub.status.idle": "2023-02-15T21:10:14.959465Z",
     "shell.execute_reply": "2023-02-15T21:10:14.958929Z",
     "shell.execute_reply.started": "2023-02-15T17:32:06.384465Z"
    },
    "papermill": {
     "duration": 0.025337,
     "end_time": "2023-02-15T21:10:14.959593",
     "exception": false,
     "start_time": "2023-02-15T21:10:14.934256",
     "status": "completed"
    },
    "tags": []
   },
   "outputs": [],
   "source": [
    "#history = model.fit(\n",
    " #   train_generator,\n",
    " #   validation_data = validation_generator,\n",
    " #   epochs = EPOCHS,\n",
    " #   callbacks = [learning_rate_reduction, early_stopping, model_save],\n",
    " #   )"
   ]
  },
  {
   "cell_type": "code",
   "execution_count": 12,
   "id": "c59f2443",
   "metadata": {
    "execution": {
     "iopub.execute_input": "2023-02-15T21:10:15.009299Z",
     "iopub.status.busy": "2023-02-15T21:10:15.008368Z",
     "iopub.status.idle": "2023-02-15T21:10:49.278806Z",
     "shell.execute_reply": "2023-02-15T21:10:49.278064Z",
     "shell.execute_reply.started": "2023-02-15T20:29:28.507327Z"
    },
    "papermill": {
     "duration": 34.302429,
     "end_time": "2023-02-15T21:10:49.279046",
     "exception": false,
     "start_time": "2023-02-15T21:10:14.976617",
     "status": "completed"
    },
    "tags": []
   },
   "outputs": [
    {
     "name": "stderr",
     "output_type": "stream",
     "text": [
      "2023-02-15 21:10:27.417611: W tensorflow/python/util/util.cc:348] Sets are not currently considered sequences, but this may change in the future, so consider avoiding using them.\n",
      "/opt/conda/lib/python3.7/site-packages/keras/utils/generic_utils.py:497: CustomMaskWarning: Custom mask layers require a config and must override get_config. When loading, the custom mask layer must be passed to the custom_objects argument.\n",
      "  category=CustomMaskWarning)\n"
     ]
    }
   ],
   "source": [
    "model.save('./dog_cat_model')"
   ]
  },
  {
   "cell_type": "code",
   "execution_count": 13,
   "id": "741f0cb9",
   "metadata": {
    "execution": {
     "iopub.execute_input": "2023-02-15T21:10:49.335665Z",
     "iopub.status.busy": "2023-02-15T21:10:49.335006Z",
     "iopub.status.idle": "2023-02-15T21:11:01.282015Z",
     "shell.execute_reply": "2023-02-15T21:11:01.279429Z",
     "shell.execute_reply.started": "2023-02-15T21:07:26.166035Z"
    },
    "papermill": {
     "duration": 11.98474,
     "end_time": "2023-02-15T21:11:01.282216",
     "exception": false,
     "start_time": "2023-02-15T21:10:49.297476",
     "status": "completed"
    },
    "tags": []
   },
   "outputs": [],
   "source": [
    "model = load_model(\"/kaggle/input/trained-model/ModelCat_Doc\")"
   ]
  },
  {
   "cell_type": "code",
   "execution_count": 14,
   "id": "e8c4ab17",
   "metadata": {
    "execution": {
     "iopub.execute_input": "2023-02-15T21:11:01.340214Z",
     "iopub.status.busy": "2023-02-15T21:11:01.338533Z",
     "iopub.status.idle": "2023-02-15T21:11:01.340939Z",
     "shell.execute_reply": "2023-02-15T21:11:01.341454Z",
     "shell.execute_reply.started": "2023-02-15T20:30:29.350289Z"
    },
    "papermill": {
     "duration": 0.041724,
     "end_time": "2023-02-15T21:11:01.341635",
     "exception": false,
     "start_time": "2023-02-15T21:11:01.299911",
     "status": "completed"
    },
    "tags": []
   },
   "outputs": [],
   "source": [
    "\n",
    "def plot_hist(hist):\n",
    "    plt.plot(hist.history[\"acc\"])\n",
    "    plt.plot(hist.history[\"val_acc\"])\n",
    "    plt.title(\"model accuracy\")\n",
    "    plt.ylabel(\"accuracy\")\n",
    "    plt.xlabel(\"epoch\")\n",
    "    plt.legend([\"train\", \"validation\"], loc=\"upper left\")\n",
    "    plt.show()\n",
    "\n",
    "\n",
    "#plot_hist(history)"
   ]
  },
  {
   "cell_type": "code",
   "execution_count": 15,
   "id": "831af287",
   "metadata": {
    "execution": {
     "iopub.execute_input": "2023-02-15T21:11:01.411273Z",
     "iopub.status.busy": "2023-02-15T21:11:01.410162Z",
     "iopub.status.idle": "2023-02-15T21:11:56.069142Z",
     "shell.execute_reply": "2023-02-15T21:11:56.068304Z",
     "shell.execute_reply.started": "2023-02-15T21:07:48.934569Z"
    },
    "papermill": {
     "duration": 54.709223,
     "end_time": "2023-02-15T21:11:56.069297",
     "exception": false,
     "start_time": "2023-02-15T21:11:01.360074",
     "status": "completed"
    },
    "tags": []
   },
   "outputs": [
    {
     "name": "stdout",
     "output_type": "stream",
     "text": [
      "Found 12500 validated image filenames.\n"
     ]
    },
    {
     "name": "stderr",
     "output_type": "stream",
     "text": [
      "2023-02-15 21:11:01.693022: I tensorflow/compiler/mlir/mlir_graph_optimization_pass.cc:185] None of the MLIR Optimization Passes are enabled (registered 2)\n",
      "2023-02-15 21:11:04.388329: I tensorflow/stream_executor/cuda/cuda_dnn.cc:369] Loaded cuDNN version 8005\n"
     ]
    },
    {
     "name": "stdout",
     "output_type": "stream",
     "text": [
      "391/391 [==============================] - 54s 118ms/step\n"
     ]
    }
   ],
   "source": [
    "\n",
    "test_gen = ImageDataGenerator(preprocessing_function=preprocess_input)\n",
    "test_generator = test_gen.flow_from_dataframe(\n",
    "    test, \n",
    "    UNZIP_TEST, \n",
    "    x_col='filename',\n",
    "    #y_col=None,\n",
    "    class_mode= None,\n",
    "    target_size=(IMG_SIZE,IMG_SIZE),\n",
    "    batch_size=BATCH_SIZE,\n",
    "    shuffle=False\n",
    ")\n",
    "\n",
    "\n",
    "predict = model.predict(test_generator, verbose = 1)"
   ]
  },
  {
   "cell_type": "code",
   "execution_count": 16,
   "id": "879a8898",
   "metadata": {
    "execution": {
     "iopub.execute_input": "2023-02-15T21:11:56.334769Z",
     "iopub.status.busy": "2023-02-15T21:11:56.332530Z",
     "iopub.status.idle": "2023-02-15T21:11:56.337636Z",
     "shell.execute_reply": "2023-02-15T21:11:56.337072Z",
     "shell.execute_reply.started": "2023-02-15T21:08:44.465326Z"
    },
    "papermill": {
     "duration": 0.139372,
     "end_time": "2023-02-15T21:11:56.337777",
     "exception": false,
     "start_time": "2023-02-15T21:11:56.198405",
     "status": "completed"
    },
    "tags": []
   },
   "outputs": [],
   "source": [
    "\n",
    "test[\"predict\"] = predict\n",
    "test[\"label\"] = test[\"predict\"]\n",
    "result = test[[\"id\", \"label\"]]"
   ]
  },
  {
   "cell_type": "code",
   "execution_count": 17,
   "id": "d6adfebc",
   "metadata": {
    "execution": {
     "iopub.execute_input": "2023-02-15T21:11:56.594378Z",
     "iopub.status.busy": "2023-02-15T21:11:56.593527Z",
     "iopub.status.idle": "2023-02-15T21:11:56.624407Z",
     "shell.execute_reply": "2023-02-15T21:11:56.623851Z",
     "shell.execute_reply.started": "2023-02-15T21:08:46.317037Z"
    },
    "papermill": {
     "duration": 0.164307,
     "end_time": "2023-02-15T21:11:56.624562",
     "exception": false,
     "start_time": "2023-02-15T21:11:56.460255",
     "status": "completed"
    },
    "tags": []
   },
   "outputs": [],
   "source": [
    "result.to_csv('submission.csv', index=False)"
   ]
  },
  {
   "cell_type": "code",
   "execution_count": null,
   "id": "23d1ca74",
   "metadata": {
    "papermill": {
     "duration": 0.120317,
     "end_time": "2023-02-15T21:11:56.867638",
     "exception": false,
     "start_time": "2023-02-15T21:11:56.747321",
     "status": "completed"
    },
    "tags": []
   },
   "outputs": [],
   "source": []
  }
 ],
 "metadata": {
  "kernelspec": {
   "display_name": "Python 3",
   "language": "python",
   "name": "python3"
  },
  "language_info": {
   "codemirror_mode": {
    "name": "ipython",
    "version": 3
   },
   "file_extension": ".py",
   "mimetype": "text/x-python",
   "name": "python",
   "nbconvert_exporter": "python",
   "pygments_lexer": "ipython3",
   "version": "3.7.12"
  },
  "papermill": {
   "default_parameters": {},
   "duration": 149.614328,
   "end_time": "2023-02-15T21:12:00.177294",
   "environment_variables": {},
   "exception": null,
   "input_path": "__notebook__.ipynb",
   "output_path": "__notebook__.ipynb",
   "parameters": {},
   "start_time": "2023-02-15T21:09:30.562966",
   "version": "2.3.3"
  }
 },
 "nbformat": 4,
 "nbformat_minor": 5
}
